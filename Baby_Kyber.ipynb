{
  "nbformat": 4,
  "nbformat_minor": 0,
  "metadata": {
    "colab": {
      "provenance": [],
      "authorship_tag": "ABX9TyMTXe8Vy/kgyuPz5r0ByZzp",
      "include_colab_link": true
    },
    "kernelspec": {
      "name": "python3",
      "display_name": "Python 3"
    },
    "language_info": {
      "name": "python"
    }
  },
  "cells": [
    {
      "cell_type": "markdown",
      "metadata": {
        "id": "view-in-github",
        "colab_type": "text"
      },
      "source": [
        "<a href=\"https://colab.research.google.com/github/Quanturistae/PQC_Project_Course/blob/main/Baby_Kyber.ipynb\" target=\"_parent\"><img src=\"https://colab.research.google.com/assets/colab-badge.svg\" alt=\"Open In Colab\"/></a>"
      ]
    },
    {
      "cell_type": "code",
      "execution_count": null,
      "metadata": {
        "id": "-TeOzcbzyZLh"
      },
      "outputs": [],
      "source": [
        "from numpy.polynomial import Polynomial\n",
        "from sympy import symbols, Poly\n",
        "import numpy\n",
        "from sympy import rem, ZZ\n",
        "import math"
      ]
    },
    {
      "cell_type": "code",
      "source": [
        "def Kyber_KeyGen(q, f, k, x):\n",
        "  #input secret vector s (private key)\n",
        "  temp_s = []\n",
        "\n",
        "  for i in range(k):\n",
        "      coeffs = list(map(int, input(f\"Enter coefficients in decreasing order of degree separated by space - s_{i}: \").split()))\n",
        "      temp = Poly(coeffs, x)\n",
        "      temp_s.append(temp)\n",
        "\n",
        "  print(\"Private Key as list:\", temp_s)\n",
        "  s = numpy.asmatrix(numpy.asanyarray(temp_s)).transpose()\n",
        "  print(\"Private Key:\", s)\n",
        "\n",
        "  #input polynomial matrix A\n",
        "  temp_A = []\n",
        "\n",
        "  for i in range(k):\n",
        "    temp_row_A = []\n",
        "    for j in range(k):\n",
        "      coeffs = list(map(int, input(f\"Enter coefficients in decreasing order of degree separated by space - Ar_{i}{j}: \").split()))\n",
        "      temp_element_A = Poly(coeffs, x)\n",
        "      temp_row_A.append(temp_element_A)\n",
        "    temp_A.append(temp_row_A)\n",
        "\n",
        "  print(\"Matrix A as list:\", temp_A)\n",
        "  A = numpy.asmatrix(numpy.asanyarray(temp_A))\n",
        "  print(\"Matrix A:\", A)\n",
        "\n",
        "  #input error vector e\n",
        "  temp_e = []\n",
        "\n",
        "  for i in range(k):\n",
        "      coeffs = list(map(int, input(f\"Enter coefficients in decreasing order of degree separated by space - e_{i}: \").split()))\n",
        "      temp = Poly(coeffs, x)\n",
        "      temp_e.append(temp)\n",
        "\n",
        "  print(\"Error as list:\", temp_e)\n",
        "  e = numpy.asmatrix(numpy.asanyarray(temp_e)).transpose()\n",
        "  print(\"error:\", e)\n",
        "\n",
        "  #t = As+e\n",
        "  t = numpy.add(numpy.matmul(A, s), e)\n",
        "  print(\"vector t before mod q:\", t)\n",
        "\n",
        "  t = numpy.array(t).flatten().tolist()\n",
        "\n",
        "  for i in range(k):\n",
        "    t[i] = rem(t[i], f)\n",
        "    t[i] = Poly([coeff % q for coeff in t[i].as_poly().all_coeffs()], x)\n",
        "\n",
        "  t = numpy.asmatrix(numpy.asanyarray(t)).transpose()\n",
        "  print(\"vector t:\", t)\n",
        "\n",
        "\n",
        "  #return\n",
        "  return(s, A, t)"
      ],
      "metadata": {
        "id": "VPsRSS9MywCh"
      },
      "execution_count": null,
      "outputs": []
    },
    {
      "cell_type": "code",
      "source": [
        "def Kyber_Encaps(q, f, k, x, A, t):\n",
        "  #input randomizer polynomial vector r\n",
        "  temp_r = []\n",
        "\n",
        "  for i in range(k):\n",
        "      coeffs = list(map(int, input(f\"Enter coefficients in decreasing order of degree separated by space - r_{i}: \").split()))\n",
        "      temp = Poly(coeffs, x)\n",
        "      temp_r.append(temp)\n",
        "\n",
        "  print(\"Randomizer polynomial vector r as list:\", temp_r)\n",
        "  r = numpy.asmatrix(numpy.asanyarray(temp_r)).transpose()\n",
        "  print(\"Randomizer polynomial vector r:\", r)\n",
        "\n",
        "  #input error vector e_1\n",
        "  temp_e_1 = []\n",
        "\n",
        "  for i in range(k):\n",
        "      coeffs = list(map(int, input(f\"Enter coefficients in decreasing order of degree separated by space - e_1_{i}: \").split()))\n",
        "      temp = Poly(coeffs, x)\n",
        "      temp_e_1.append(temp)\n",
        "\n",
        "  print(\"Error vector e_1 as list:\", temp_e_1)\n",
        "  e_1 = numpy.asmatrix(numpy.asanyarray(temp_e_1)).transpose()\n",
        "  print(\"Error vector e_1:\", e_1)\n",
        "\n",
        "  #input error polynomial e_2\n",
        "  e_2 = Poly(list(map(int, input(f\"Enter coefficients in decreasing order of degree separated by space - e_2_{i}: \").split())), x)\n",
        "\n",
        "  #input message in decimal to encrypt\n",
        "  message_decimal = int(input(\"Enter message in decimal to encrypt: \"))\n",
        "\n",
        "  message_binary = bin(message_decimal)\n",
        "  message_binary_list = list(message_binary[2:])\n",
        "  message_binary_list_int = [int(bit) for bit in message_binary_list]\n",
        "  print(\"Message in binary:\", message_binary_list_int)\n",
        "  message_binary_list_int_halfq = [(message_binary_list_int[i] * math.ceil(q/2)) for i in range(len(message_binary_list_int))]\n",
        "  print(\"Message in binary multiplied by ceil(q/2):\", message_binary_list_int_halfq)\n",
        "  message_poly = Poly(message_binary_list_int_halfq, x)\n",
        "  print(\"Message in polynomial:\", message_poly)\n",
        "\n",
        "  t_T = numpy.transpose(t)\n",
        "  A_T = numpy.transpose(A)\n",
        "\n",
        "  #calc u, v\n",
        "  u = numpy.add(numpy.matmul(A_T, r), e_1)\n",
        "  #v = numpy.add(numpy.matmul(t_T, r), e_2, message_poly)\n",
        "  temp = numpy.matmul(t_T, r).flatten().tolist()[0]\n",
        "  v = temp[0] + e_2 + message_poly\n",
        "\n",
        "  temp = u.transpose().flatten().tolist()[0]\n",
        "\n",
        "  for i in range(k):\n",
        "    temp[i] = rem(temp[i], f)\n",
        "    temp[i] = Poly([coeff % q for coeff in temp[i].as_poly().all_coeffs()], x)\n",
        "\n",
        "  u = numpy.asmatrix(numpy.asanyarray(temp)).transpose()\n",
        "\n",
        "  v = rem(v, f)\n",
        "  v = Poly([coeff % q for coeff in v.as_poly().all_coeffs()], x)\n",
        "\n",
        "  print(\"Ciphertext u:\", u)\n",
        "  print(\"Ciphertext v:\", v)\n",
        "\n",
        "  #return\n",
        "  return(u, v)"
      ],
      "metadata": {
        "id": "eA4gXc5FyxEm"
      },
      "execution_count": null,
      "outputs": []
    },
    {
      "cell_type": "code",
      "source": [
        "def Kyber_Decaps(q, f, k, x, s, u, v):\n",
        "  s_T = numpy.transpose(s)\n",
        "  recovered_message_poly_with_error = numpy.subtract(v, numpy.matmul(s_T, u))\n",
        "  recovered_message_poly_with_error = recovered_message_poly_with_error.flatten().tolist()[0]\n",
        "  recovered_message_poly_with_error = recovered_message_poly_with_error[0]\n",
        "\n",
        "  recovered_message_poly_with_error = rem(recovered_message_poly_with_error, f)\n",
        "  recovered_message_poly_with_error = Poly([coeff % q for coeff in recovered_message_poly_with_error.as_poly().all_coeffs()], x)\n",
        "\n",
        "  print(\"Recovered message in polynomial with errors:\", recovered_message_poly_with_error)\n",
        "\n",
        "  recovered_message_binary_list_with_error = recovered_message_poly_with_error.all_coeffs()\n",
        "  print(\"Recovered message in binary list with errors:\", recovered_message_binary_list_with_error)\n",
        "\n",
        "  def round(coeff, q):\n",
        "    coeff = coeff % q\n",
        "    if coeff >= q/4 and coeff <= 3*q/4:\n",
        "      #print(\"round q/2\")\n",
        "      return math.ceil(q/2)\n",
        "    else:\n",
        "      #print(\"round 0\")\n",
        "      return 0\n",
        "\n",
        "  recovered_message_binary_list_rounded = []\n",
        "  recovered_message_binary_list = []\n",
        "  #print(\"len\", len(recovered_message_binary_list_with_error))\n",
        "\n",
        "  for i in range(len(recovered_message_binary_list_with_error)):\n",
        "    #print(\"test\", recovered_message_binary_list_with_error[i])\n",
        "    #print(\"list\", round(recovered_message_binary_list_with_error[i], q))\n",
        "    recovered_message_binary_list_rounded.append(round(recovered_message_binary_list_with_error[i], q))\n",
        "    #print(i, recovered_message_binary_list_rounded[i])\n",
        "    recovered_message_binary_list.append(str(recovered_message_binary_list_rounded[i] // math.ceil(q/2)))\n",
        "\n",
        "  recovered_message_binary = ''.join(recovered_message_binary_list)\n",
        "  print(\"Recovered message in binary:\", recovered_message_binary)\n",
        "\n",
        "  recovered_message_decimal = int(recovered_message_binary, 2)\n",
        "\n",
        "  #return\n",
        "  return(recovered_message_decimal)"
      ],
      "metadata": {
        "id": "jacXfKwGyxBG"
      },
      "execution_count": null,
      "outputs": []
    },
    {
      "cell_type": "code",
      "source": [
        "#input modulus q\n",
        "q = int(input(\"Enter the modulus q: \"))\n",
        "\n",
        "#input polynomial modulus f\n",
        "f = Poly(list(map(int, input(\"Enter coefficients of f(x) in increasing order of degree separated by space: \").split())), symbols('x'))\n",
        "print(\"Plynomial modulus f:\", f)\n",
        "\n",
        "#All the vectors are of the same size including the dimension of square matrix A\n",
        "k = int(input(\"Enter the size of vecors/matrix used overall: \"))\n",
        "\n",
        "x = symbols('x')  # Define the symbol for the polynomial\n",
        "\n",
        "#Call func KeyGen which returns vector t\n",
        "s, A, t = Kyber_KeyGen(q, f, k, x)\n",
        "\n",
        "\n",
        "#print public key (A, t)\n",
        "print(\"Public Key (A, t):\", (A, t))\n",
        "\n",
        "#print private key (s)\n",
        "print(\"Private Key (s):\", s)"
      ],
      "metadata": {
        "colab": {
          "base_uri": "https://localhost:8080/"
        },
        "id": "8pIKfAd8yw-Z",
        "outputId": "ee9bf7ce-2fda-46ca-fce6-5fa7c8c1418c"
      },
      "execution_count": null,
      "outputs": [
        {
          "output_type": "stream",
          "name": "stdout",
          "text": [
            "Enter the modulus q: 17\n",
            "Enter coefficients of f(x) in increasing order of degree separated by space: 1 0 0 0 1\n",
            "Plynomial modulus f: Poly(x**4 + 1, x, domain='ZZ')\n",
            "Enter the size of vecors/matrix used overall: 2 \n",
            "Enter coefficients in decreasing order of degree separated by space - s_0: -1 -1 1 0\n",
            "Enter coefficients in decreasing order of degree separated by space - s_1: -1 0 -1 0\n",
            "Private Key as list: [Poly(-x**3 - x**2 + x, x, domain='ZZ'), Poly(-x**3 - x, x, domain='ZZ')]\n",
            "Private Key: [[Poly(-x**3 - x**2 + x, x, domain='ZZ')]\n",
            " [Poly(-x**3 - x, x, domain='ZZ')]]\n",
            "Enter coefficients in decreasing order of degree separated by space - Ar_00: 6 16 16 11\n",
            "Enter coefficients in decreasing order of degree separated by space - Ar_01: 9 4 6 3 \n",
            "Enter coefficients in decreasing order of degree separated by space - Ar_10: 5 3 10 1\n",
            "Enter coefficients in decreasing order of degree separated by space - Ar_11: 6 1 9 15\n",
            "Matrix A as list: [[Poly(6*x**3 + 16*x**2 + 16*x + 11, x, domain='ZZ'), Poly(9*x**3 + 4*x**2 + 6*x + 3, x, domain='ZZ')], [Poly(5*x**3 + 3*x**2 + 10*x + 1, x, domain='ZZ'), Poly(6*x**3 + x**2 + 9*x + 15, x, domain='ZZ')]]\n",
            "Matrix A: [[Poly(6*x**3 + 16*x**2 + 16*x + 11, x, domain='ZZ')\n",
            "  Poly(9*x**3 + 4*x**2 + 6*x + 3, x, domain='ZZ')]\n",
            " [Poly(5*x**3 + 3*x**2 + 10*x + 1, x, domain='ZZ')\n",
            "  Poly(6*x**3 + x**2 + 9*x + 15, x, domain='ZZ')]]\n",
            "Enter coefficients in decreasing order of degree separated by space - e_0: 1 0 0\n",
            "Enter coefficients in decreasing order of degree separated by space - e_1: 1 -1 0\n",
            "Error as list: [Poly(x**2, x, domain='ZZ'), Poly(x**2 - x, x, domain='ZZ')]\n",
            "error: [[Poly(x**2, x, domain='ZZ')]\n",
            " [Poly(x**2 - x, x, domain='ZZ')]]\n",
            "vector t before mod q: [[Poly(-15*x**6 - 26*x**5 - 41*x**4 - 18*x**3 + 8*x, x, domain='ZZ')]\n",
            " [Poly(-11*x**6 - 9*x**5 - 23*x**4 - 24*x**3 + x**2 - 15*x, x, domain='ZZ')]]\n",
            "vector t: [[Poly(16*x**3 + 15*x**2 + 7, x, domain='ZZ')]\n",
            " [Poly(10*x**3 + 12*x**2 + 11*x + 6, x, domain='ZZ')]]\n",
            "Public Key (A, t): (matrix([[Poly(6*x**3 + 16*x**2 + 16*x + 11, x, domain='ZZ'),\n",
            "         Poly(9*x**3 + 4*x**2 + 6*x + 3, x, domain='ZZ')],\n",
            "        [Poly(5*x**3 + 3*x**2 + 10*x + 1, x, domain='ZZ'),\n",
            "         Poly(6*x**3 + x**2 + 9*x + 15, x, domain='ZZ')]], dtype=object), matrix([[Poly(16*x**3 + 15*x**2 + 7, x, domain='ZZ')],\n",
            "        [Poly(10*x**3 + 12*x**2 + 11*x + 6, x, domain='ZZ')]],\n",
            "       dtype=object))\n",
            "Private Key (s): [[Poly(-x**3 - x**2 + x, x, domain='ZZ')]\n",
            " [Poly(-x**3 - x, x, domain='ZZ')]]\n"
          ]
        }
      ]
    },
    {
      "cell_type": "code",
      "source": [
        "#Call func Enc which returns ciphertext (u, v)\n",
        "u, v = Kyber_Encaps(q, f, k, x, A, t)\n",
        "\n",
        "#print ciphertext (u, v)\n",
        "print(\"Ciphertext (u, v):\", (u, v))"
      ],
      "metadata": {
        "colab": {
          "base_uri": "https://localhost:8080/"
        },
        "id": "ibmcuHfnyw75",
        "outputId": "d433a852-7498-484f-d609-b314f62e61e2"
      },
      "execution_count": null,
      "outputs": [
        {
          "output_type": "stream",
          "name": "stdout",
          "text": [
            "Enter coefficients in decreasing order of degree separated by space - r_0: -1 1 0 0\n",
            "Enter coefficients in decreasing order of degree separated by space - r_1: 1 1 0 -1\n",
            "Randomizer polynomial vector r as list: [Poly(-x**3 + x**2, x, domain='ZZ'), Poly(x**3 + x**2 - 1, x, domain='ZZ')]\n",
            "Randomizer polynomial vector r: [[Poly(-x**3 + x**2, x, domain='ZZ')]\n",
            " [Poly(x**3 + x**2 - 1, x, domain='ZZ')]]\n",
            "Enter coefficients in decreasing order of degree separated by space - e_1_0: 1 1 0\n",
            "Enter coefficients in decreasing order of degree separated by space - e_1_1: 1 0 0\n",
            "Error vector e_1 as list: [Poly(x**2 + x, x, domain='ZZ'), Poly(x**2, x, domain='ZZ')]\n",
            "Error vector e_1: [[Poly(x**2 + x, x, domain='ZZ')]\n",
            " [Poly(x**2, x, domain='ZZ')]]\n",
            "Enter coefficients in decreasing order of degree separated by space - e_2_1: -1 -1 0 0\n",
            "Enter message in decimal to encrypt: 5\n",
            "Message in binary: [1, 0, 1]\n",
            "Message in binary multiplied by ceil(q/2): [9, 0, 9]\n",
            "Message in polynomial: Poly(9*x**2 + 9, x, domain='ZZ')\n",
            "Ciphertext u: [[Poly(11*x**3 + 11*x**2 + 10*x + 3, x, domain='ZZ')]\n",
            " [Poly(4*x**3 + 4*x**2 + 13*x + 11, x, domain='ZZ')]]\n",
            "Ciphertext v: Poly(16*x**3 + 15*x**2 + 16, x, domain='ZZ')\n",
            "Ciphertext (u, v): (matrix([[Poly(11*x**3 + 11*x**2 + 10*x + 3, x, domain='ZZ')],\n",
            "        [Poly(4*x**3 + 4*x**2 + 13*x + 11, x, domain='ZZ')]], dtype=object), Poly(16*x**3 + 15*x**2 + 16, x, domain='ZZ'))\n"
          ]
        }
      ]
    },
    {
      "cell_type": "code",
      "source": [
        "#Call func Dec with parameters (s, ciphertext) which returns message in decimal format\n",
        "decrypted_message = Kyber_Decaps(q, f, k, x, s, u, v)\n",
        "\n",
        "#print decrypted message (decimal)\n",
        "print(\"Decrypted message (decimal):\", decrypted_message)"
      ],
      "metadata": {
        "colab": {
          "base_uri": "https://localhost:8080/"
        },
        "id": "ksUIDqvSyw48",
        "outputId": "a7ce224c-3bf6-4cd3-a707-222c074915de"
      },
      "execution_count": null,
      "outputs": [
        {
          "output_type": "stream",
          "name": "stdout",
          "text": [
            "Recovered message in polynomial with errors: Poly(16*x**3 + 6*x**2 + 16*x + 6, x, domain='ZZ')\n",
            "Recovered message in binary list with errors: [16, 6, 16, 6]\n",
            "Recovered message in binary: 0101\n",
            "Decrypted message (decimal): 5\n"
          ]
        }
      ]
    },
    {
      "cell_type": "markdown",
      "source": [
        "Inputs      \n",
        "\n",
        "q = 17     \n",
        "f = 1 0 0 0 1      \n",
        "k = 2     \n",
        "s = -1 -1 1 0 || -1 0 -1 0       \n",
        "A = 6 16 16 11 || 9 4 6 3 || 5 3 10 1 || 6 1 9 15         \n",
        "e = 1 0 0 || 1 -1 0          \n",
        "r = -1 1 0 0 || 1 1 0 -1            \n",
        "e_1 = 1 1 0 || 1 0 0          \n",
        "e_2 = -1 -1 0 0          \n",
        "m = 11\n",
        "\n",
        "\n"
      ],
      "metadata": {
        "id": "RHn1JJDrt_rp"
      }
    }
  ]
}